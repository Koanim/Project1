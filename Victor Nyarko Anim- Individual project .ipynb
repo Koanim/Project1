{
 "cells": [
  {
   "cell_type": "markdown",
   "id": "a641b7a0-5df9-40ba-92a0-8ef7dc63a1ef",
   "metadata": {},
   "source": [
    "## Individual Project - Python WEEK 4\n",
    "## Victor Nyarko Anim"
   ]
  },
  {
   "cell_type": "raw",
   "id": "78d17e6f-f196-42a3-a05f-a45db811e8d5",
   "metadata": {},
   "source": []
  },
  {
   "cell_type": "code",
   "execution_count": 90,
   "id": "04efa707-2d36-45a6-baa4-49c016dd0199",
   "metadata": {
    "tags": []
   },
   "outputs": [],
   "source": [
    "# importing libaries\n",
    "\n",
    "import pandas as pd\n",
    "import numpy as np"
   ]
  },
  {
   "cell_type": "markdown",
   "id": "783349c2-d951-4fb0-ad53-e30268a178cd",
   "metadata": {},
   "source": [
    "## Creating a Dataframe from the list of dictionaries below"
   ]
  },
  {
   "cell_type": "code",
   "execution_count": 91,
   "id": "3a7dac39-1034-497d-81bb-3543d6d5ae02",
   "metadata": {
    "tags": []
   },
   "outputs": [],
   "source": [
    "#Naming the list of dictionaries as tech_prod\n",
    "\n",
    "store=[{'product_id':23, 'name':'computer','wholesale_price':500, 'retail_price':1000, 'sales':100},\n",
    "           {'product_id':96, 'name':'Python Workout','wholesale_price':35, 'retail_price':75, 'sales':1000},\n",
    "          {'product_id':97, 'name':'Pandas Workout', 'wholesale_price':35, 'retail_price':75, 'sales':500},\n",
    "           {'product_id':15, 'name':'banana', 'wholesale_price':0.5, 'retail_price':1, 'sales':200},\n",
    "           {'product_id':87, 'name':'sandwitch', 'wholesale_price':3, 'retail_price':5, 'sales':300}]"
   ]
  },
  {
   "cell_type": "code",
   "execution_count": 92,
   "id": "fc8acf25-1b5c-4964-9471-6f72399e4551",
   "metadata": {
    "tags": []
   },
   "outputs": [],
   "source": [
    "#converting to Dataframe\n",
    "store_df=pd.DataFrame(store)"
   ]
  },
  {
   "cell_type": "code",
   "execution_count": 93,
   "id": "5221ea0b-3081-43f7-ab16-c469146c127c",
   "metadata": {
    "tags": []
   },
   "outputs": [
    {
     "data": {
      "text/html": [
       "<div>\n",
       "<style scoped>\n",
       "    .dataframe tbody tr th:only-of-type {\n",
       "        vertical-align: middle;\n",
       "    }\n",
       "\n",
       "    .dataframe tbody tr th {\n",
       "        vertical-align: top;\n",
       "    }\n",
       "\n",
       "    .dataframe thead th {\n",
       "        text-align: right;\n",
       "    }\n",
       "</style>\n",
       "<table border=\"1\" class=\"dataframe\">\n",
       "  <thead>\n",
       "    <tr style=\"text-align: right;\">\n",
       "      <th></th>\n",
       "      <th>product_id</th>\n",
       "      <th>name</th>\n",
       "      <th>wholesale_price</th>\n",
       "      <th>retail_price</th>\n",
       "      <th>sales</th>\n",
       "    </tr>\n",
       "  </thead>\n",
       "  <tbody>\n",
       "    <tr>\n",
       "      <th>0</th>\n",
       "      <td>23</td>\n",
       "      <td>computer</td>\n",
       "      <td>500.0</td>\n",
       "      <td>1000</td>\n",
       "      <td>100</td>\n",
       "    </tr>\n",
       "    <tr>\n",
       "      <th>1</th>\n",
       "      <td>96</td>\n",
       "      <td>Python Workout</td>\n",
       "      <td>35.0</td>\n",
       "      <td>75</td>\n",
       "      <td>1000</td>\n",
       "    </tr>\n",
       "    <tr>\n",
       "      <th>2</th>\n",
       "      <td>97</td>\n",
       "      <td>Pandas Workout</td>\n",
       "      <td>35.0</td>\n",
       "      <td>75</td>\n",
       "      <td>500</td>\n",
       "    </tr>\n",
       "    <tr>\n",
       "      <th>3</th>\n",
       "      <td>15</td>\n",
       "      <td>banana</td>\n",
       "      <td>0.5</td>\n",
       "      <td>1</td>\n",
       "      <td>200</td>\n",
       "    </tr>\n",
       "    <tr>\n",
       "      <th>4</th>\n",
       "      <td>87</td>\n",
       "      <td>sandwitch</td>\n",
       "      <td>3.0</td>\n",
       "      <td>5</td>\n",
       "      <td>300</td>\n",
       "    </tr>\n",
       "  </tbody>\n",
       "</table>\n",
       "</div>"
      ],
      "text/plain": [
       "   product_id            name  wholesale_price  retail_price  sales\n",
       "0          23        computer            500.0          1000    100\n",
       "1          96  Python Workout             35.0            75   1000\n",
       "2          97  Pandas Workout             35.0            75    500\n",
       "3          15          banana              0.5             1    200\n",
       "4          87       sandwitch              3.0             5    300"
      ]
     },
     "execution_count": 93,
     "metadata": {},
     "output_type": "execute_result"
    }
   ],
   "source": [
    "store_df"
   ]
  },
  {
   "cell_type": "code",
   "execution_count": null,
   "id": "c17d9e98-3462-487c-9903-51f2d6106cac",
   "metadata": {},
   "outputs": [],
   "source": []
  },
  {
   "cell_type": "markdown",
   "id": "2b66502d-af45-423f-97d9-b41a61792b5c",
   "metadata": {},
   "source": [
    "## Calculating the total profit for each product"
   ]
  },
  {
   "cell_type": "code",
   "execution_count": 94,
   "id": "d4251263-99c4-497e-b125-0b35b6fd5e4e",
   "metadata": {
    "tags": []
   },
   "outputs": [],
   "source": [
    "'''\n",
    "    Calculating Total profit for each product using the following formula\n",
    "    net_revenue_per_product = (retail_price - wholesale_price)*sales\n",
    "'''\n",
    "\n",
    "store_df['net_revenue_per_product'] = (store_df['retail_price'] - store_df['wholesale_price'])*store_df['sales']\n"
   ]
  },
  {
   "cell_type": "code",
   "execution_count": 95,
   "id": "5f373dc8-6dfd-466e-951a-9885d929e5ee",
   "metadata": {
    "tags": []
   },
   "outputs": [
    {
     "data": {
      "text/html": [
       "<div>\n",
       "<style scoped>\n",
       "    .dataframe tbody tr th:only-of-type {\n",
       "        vertical-align: middle;\n",
       "    }\n",
       "\n",
       "    .dataframe tbody tr th {\n",
       "        vertical-align: top;\n",
       "    }\n",
       "\n",
       "    .dataframe thead th {\n",
       "        text-align: right;\n",
       "    }\n",
       "</style>\n",
       "<table border=\"1\" class=\"dataframe\">\n",
       "  <thead>\n",
       "    <tr style=\"text-align: right;\">\n",
       "      <th></th>\n",
       "      <th>product_id</th>\n",
       "      <th>name</th>\n",
       "      <th>wholesale_price</th>\n",
       "      <th>retail_price</th>\n",
       "      <th>sales</th>\n",
       "      <th>net_revenue_per_product</th>\n",
       "    </tr>\n",
       "  </thead>\n",
       "  <tbody>\n",
       "    <tr>\n",
       "      <th>0</th>\n",
       "      <td>23</td>\n",
       "      <td>computer</td>\n",
       "      <td>500.0</td>\n",
       "      <td>1000</td>\n",
       "      <td>100</td>\n",
       "      <td>50000.0</td>\n",
       "    </tr>\n",
       "    <tr>\n",
       "      <th>1</th>\n",
       "      <td>96</td>\n",
       "      <td>Python Workout</td>\n",
       "      <td>35.0</td>\n",
       "      <td>75</td>\n",
       "      <td>1000</td>\n",
       "      <td>40000.0</td>\n",
       "    </tr>\n",
       "    <tr>\n",
       "      <th>2</th>\n",
       "      <td>97</td>\n",
       "      <td>Pandas Workout</td>\n",
       "      <td>35.0</td>\n",
       "      <td>75</td>\n",
       "      <td>500</td>\n",
       "      <td>20000.0</td>\n",
       "    </tr>\n",
       "    <tr>\n",
       "      <th>3</th>\n",
       "      <td>15</td>\n",
       "      <td>banana</td>\n",
       "      <td>0.5</td>\n",
       "      <td>1</td>\n",
       "      <td>200</td>\n",
       "      <td>100.0</td>\n",
       "    </tr>\n",
       "    <tr>\n",
       "      <th>4</th>\n",
       "      <td>87</td>\n",
       "      <td>sandwitch</td>\n",
       "      <td>3.0</td>\n",
       "      <td>5</td>\n",
       "      <td>300</td>\n",
       "      <td>600.0</td>\n",
       "    </tr>\n",
       "  </tbody>\n",
       "</table>\n",
       "</div>"
      ],
      "text/plain": [
       "   product_id            name  wholesale_price  retail_price  sales  \\\n",
       "0          23        computer            500.0          1000    100   \n",
       "1          96  Python Workout             35.0            75   1000   \n",
       "2          97  Pandas Workout             35.0            75    500   \n",
       "3          15          banana              0.5             1    200   \n",
       "4          87       sandwitch              3.0             5    300   \n",
       "\n",
       "   net_revenue_per_product  \n",
       "0                  50000.0  \n",
       "1                  40000.0  \n",
       "2                  20000.0  \n",
       "3                    100.0  \n",
       "4                    600.0  "
      ]
     },
     "execution_count": 95,
     "metadata": {},
     "output_type": "execute_result"
    }
   ],
   "source": [
    "store_df"
   ]
  },
  {
   "cell_type": "code",
   "execution_count": null,
   "id": "8408a1a9-a176-4201-a74e-ed38f41b17af",
   "metadata": {},
   "outputs": [],
   "source": []
  },
  {
   "cell_type": "markdown",
   "id": "4fb2a565-334a-43a4-be9e-e05bc0c89fdd",
   "metadata": {},
   "source": [
    "### Total net revenue"
   ]
  },
  {
   "cell_type": "code",
   "execution_count": 96,
   "id": "a6439004-9bd8-4bbf-b6a7-3d82b00b6b1c",
   "metadata": {
    "tags": []
   },
   "outputs": [
    {
     "data": {
      "text/plain": [
       "110700.0"
      ]
     },
     "execution_count": 96,
     "metadata": {},
     "output_type": "execute_result"
    }
   ],
   "source": [
    "# using the sum method to calculate the total net revenue\n",
    "\n",
    "Total_net_revenue = store_df['net_revenue_per_product'].sum()\n",
    "Total_net_revenue"
   ]
  },
  {
   "cell_type": "markdown",
   "id": "c8f9e587-4ceb-4091-a1fd-12cb498225ac",
   "metadata": {},
   "source": [
    "    - The Total net revenue is $110,700.00"
   ]
  },
  {
   "cell_type": "markdown",
   "id": "7626f581-3750-4e9c-8296-3e36a64628e9",
   "metadata": {},
   "source": [
    "### Product with retail price twice wholesale price"
   ]
  },
  {
   "cell_type": "code",
   "execution_count": 97,
   "id": "ad8e2402-369f-4f82-bc26-50c25ff49cfd",
   "metadata": {
    "tags": []
   },
   "outputs": [
    {
     "data": {
      "text/plain": [
       "1    Python Workout\n",
       "2    Pandas Workout\n",
       "Name: name, dtype: object"
      ]
     },
     "execution_count": 97,
     "metadata": {},
     "output_type": "execute_result"
    }
   ],
   "source": [
    "# using comparison operator (>) to check product with retail price more than twice wholesale price\n",
    "\n",
    "prod_2x_wp=store_df[tech_prod_df['retail_price'] > store_df['wholesale_price']*2]['name']\n",
    "prod_2x_wp"
   ]
  },
  {
   "cell_type": "markdown",
   "id": "a832f35f-15f1-45d1-ba0a-5b70fd2133cc",
   "metadata": {},
   "source": [
    "Products with product retail prices more than twice their wholesale prices are\n",
    "    \n",
    "        - Python Workout\n",
    "        - Pandas Workout"
   ]
  },
  {
   "cell_type": "markdown",
   "id": "10389602-088e-4cd6-995f-c4911de24ae5",
   "metadata": {},
   "source": [
    "### Comparing revenue the store made from food to computers and books"
   ]
  },
  {
   "cell_type": "code",
   "execution_count": 98,
   "id": "d7e46f9e-9e62-4833-a99f-27109e48afde",
   "metadata": {
    "tags": []
   },
   "outputs": [
    {
     "data": {
      "text/plain": [
       "3    100.0\n",
       "Name: net_revenue_per_product, dtype: float64"
      ]
     },
     "execution_count": 98,
     "metadata": {},
     "output_type": "execute_result"
    }
   ],
   "source": [
    "# checking how much revenue the store made from banana \n",
    "\n",
    "rev_bana=store_df.loc[(store_df['name']=='banana')]['net_revenue_per_product'] \n",
    "rev_bana"
   ]
  },
  {
   "cell_type": "markdown",
   "id": "b313d22c-54e6-4db2-acb1-99cb0e5d1ca3",
   "metadata": {},
   "source": [
    "    - $100 was the revenue made from banana"
   ]
  },
  {
   "cell_type": "code",
   "execution_count": 99,
   "id": "7877767f-0e8a-4b93-b7ad-4c1d203ce63b",
   "metadata": {
    "tags": []
   },
   "outputs": [
    {
     "data": {
      "text/plain": [
       "4    600.0\n",
       "Name: net_revenue_per_product, dtype: float64"
      ]
     },
     "execution_count": 99,
     "metadata": {},
     "output_type": "execute_result"
    }
   ],
   "source": [
    "# checking how much revenue the store made from Sandwitch\n",
    "\n",
    "rev_sand=store_df.loc[(store_df['name']=='sandwitch')]['net_revenue_per_product']\n",
    "rev_sand"
   ]
  },
  {
   "cell_type": "markdown",
   "id": "e33da022-172e-4ca7-ad89-cb7a6a73be7e",
   "metadata": {},
   "source": [
    "    - $600 was the revenue made from banana"
   ]
  },
  {
   "cell_type": "code",
   "execution_count": 100,
   "id": "8f79dc4c-e4b1-46ec-82ff-e5a42f5a4c10",
   "metadata": {
    "tags": []
   },
   "outputs": [
    {
     "data": {
      "text/plain": [
       "700.0"
      ]
     },
     "execution_count": 100,
     "metadata": {},
     "output_type": "execute_result"
    }
   ],
   "source": [
    "# adding revenue from banana and revenue from sandwitch\n",
    "rev_food=(rev_bana.add(rev_sand, fill_value=0)).sum()\n",
    "rev_food"
   ]
  },
  {
   "cell_type": "markdown",
   "id": "d5d1f4db-e042-474c-a628-29d3234c7fbd",
   "metadata": {},
   "source": [
    "    - $700.0 was the revenue made from food "
   ]
  },
  {
   "cell_type": "code",
   "execution_count": 101,
   "id": "54a92ff5-a28f-44c3-9ee4-e1f391f70b09",
   "metadata": {
    "tags": []
   },
   "outputs": [
    {
     "data": {
      "text/plain": [
       "0    50000.0\n",
       "Name: net_revenue_per_product, dtype: float64"
      ]
     },
     "execution_count": 101,
     "metadata": {},
     "output_type": "execute_result"
    }
   ],
   "source": [
    "# checking how much revenue the store made from Computer\n",
    "\n",
    "rev_comp= store_df[(store_df['name']=='computer')]['net_revenue_per_product']\n",
    "rev_comp"
   ]
  },
  {
   "cell_type": "markdown",
   "id": "7e7b7ed5-dd15-4a1c-911b-168a2da99bd3",
   "metadata": {},
   "source": [
    "    - $50,000.00 was the revenue made from computer"
   ]
  },
  {
   "cell_type": "code",
   "execution_count": 102,
   "id": "e6b2259e-313a-4ffd-9dac-764125526a83",
   "metadata": {
    "tags": []
   },
   "outputs": [
    {
     "data": {
      "text/plain": [
       "1    40000.0\n",
       "Name: net_revenue_per_product, dtype: float64"
      ]
     },
     "execution_count": 102,
     "metadata": {},
     "output_type": "execute_result"
    }
   ],
   "source": [
    "# checking how much revenue the store made from Python workout\n",
    "\n",
    "rev_pyw= store_df[(store_df['name']=='Python Workout')]['net_revenue_per_product']\n",
    "rev_pyw"
   ]
  },
  {
   "cell_type": "markdown",
   "id": "6828410d-6219-4a1a-826d-b8b8b0454539",
   "metadata": {},
   "source": [
    " - $40,000.00 was the revenue made from Python Workout"
   ]
  },
  {
   "cell_type": "code",
   "execution_count": 103,
   "id": "f25c388f-3342-4321-ade5-c73af69cbf12",
   "metadata": {
    "tags": []
   },
   "outputs": [
    {
     "data": {
      "text/plain": [
       "2    20000.0\n",
       "Name: net_revenue_per_product, dtype: float64"
      ]
     },
     "execution_count": 103,
     "metadata": {},
     "output_type": "execute_result"
    }
   ],
   "source": [
    "# checking how much revenue the store made from Pandas workout\n",
    "\n",
    "rev_pdw= store_df[(store_df['name']=='Pandas Workout')]['net_revenue_per_product']\n",
    "rev_pdw"
   ]
  },
  {
   "cell_type": "markdown",
   "id": "a2de6760-22a0-404b-a9a3-911a8e429da7",
   "metadata": {},
   "source": [
    "    - $20,000.00 was the revenue made from Pandas Workout"
   ]
  },
  {
   "cell_type": "code",
   "execution_count": 104,
   "id": "2410daff-e0d0-4054-a888-a2ddcb998e04",
   "metadata": {
    "tags": []
   },
   "outputs": [
    {
     "data": {
      "text/plain": [
       "60000.0"
      ]
     },
     "execution_count": 104,
     "metadata": {},
     "output_type": "execute_result"
    }
   ],
   "source": [
    "# adding revenue from Python Workout and revenue from Pandas Workout\n",
    "\n",
    "rev_books=(rev_pyw.add(rev_pdw, fill_value=0)).sum()\n",
    "rev_books"
   ]
  },
  {
   "cell_type": "markdown",
   "id": "cb36735c-2be4-4037-9643-5f3964464dce",
   "metadata": {},
   "source": [
    "    - $60,000.00 was the revenue made from books "
   ]
  },
  {
   "cell_type": "markdown",
   "id": "d9776310-85fa-4444-9fcf-0806acfcf9a0",
   "metadata": {},
   "source": [
    "### The store made\n",
    "\n",
    "    - $700.00 revenue from food\n",
    "    \n",
    "    - $50,000 revenue from computer\n",
    "    \n",
    "    - $60,000 revenue from books\n",
    "\n",
    "Books generated the highest revenue, followed by computer and food generated the lowest revenue.\n"
   ]
  },
  {
   "cell_type": "markdown",
   "id": "49474343-3ad0-471c-8f31-fb22a437ada8",
   "metadata": {},
   "source": [
    "## Applying 30% discount to the wholesale price"
   ]
  },
  {
   "cell_type": "code",
   "execution_count": 105,
   "id": "b255fdc7-ec04-4f08-9898-18d24313c8d6",
   "metadata": {
    "tags": []
   },
   "outputs": [
    {
     "data": {
      "text/html": [
       "<div>\n",
       "<style scoped>\n",
       "    .dataframe tbody tr th:only-of-type {\n",
       "        vertical-align: middle;\n",
       "    }\n",
       "\n",
       "    .dataframe tbody tr th {\n",
       "        vertical-align: top;\n",
       "    }\n",
       "\n",
       "    .dataframe thead th {\n",
       "        text-align: right;\n",
       "    }\n",
       "</style>\n",
       "<table border=\"1\" class=\"dataframe\">\n",
       "  <thead>\n",
       "    <tr style=\"text-align: right;\">\n",
       "      <th></th>\n",
       "      <th>product_id</th>\n",
       "      <th>name</th>\n",
       "      <th>wholesale_price</th>\n",
       "      <th>retail_price</th>\n",
       "      <th>sales</th>\n",
       "      <th>net_revenue_per_product</th>\n",
       "    </tr>\n",
       "  </thead>\n",
       "  <tbody>\n",
       "    <tr>\n",
       "      <th>0</th>\n",
       "      <td>23</td>\n",
       "      <td>computer</td>\n",
       "      <td>500.0</td>\n",
       "      <td>1000</td>\n",
       "      <td>100</td>\n",
       "      <td>50000.0</td>\n",
       "    </tr>\n",
       "    <tr>\n",
       "      <th>1</th>\n",
       "      <td>96</td>\n",
       "      <td>Python Workout</td>\n",
       "      <td>35.0</td>\n",
       "      <td>75</td>\n",
       "      <td>1000</td>\n",
       "      <td>40000.0</td>\n",
       "    </tr>\n",
       "    <tr>\n",
       "      <th>2</th>\n",
       "      <td>97</td>\n",
       "      <td>Pandas Workout</td>\n",
       "      <td>35.0</td>\n",
       "      <td>75</td>\n",
       "      <td>500</td>\n",
       "      <td>20000.0</td>\n",
       "    </tr>\n",
       "    <tr>\n",
       "      <th>3</th>\n",
       "      <td>15</td>\n",
       "      <td>banana</td>\n",
       "      <td>0.5</td>\n",
       "      <td>1</td>\n",
       "      <td>200</td>\n",
       "      <td>100.0</td>\n",
       "    </tr>\n",
       "    <tr>\n",
       "      <th>4</th>\n",
       "      <td>87</td>\n",
       "      <td>sandwitch</td>\n",
       "      <td>3.0</td>\n",
       "      <td>5</td>\n",
       "      <td>300</td>\n",
       "      <td>600.0</td>\n",
       "    </tr>\n",
       "  </tbody>\n",
       "</table>\n",
       "</div>"
      ],
      "text/plain": [
       "   product_id            name  wholesale_price  retail_price  sales  \\\n",
       "0          23        computer            500.0          1000    100   \n",
       "1          96  Python Workout             35.0            75   1000   \n",
       "2          97  Pandas Workout             35.0            75    500   \n",
       "3          15          banana              0.5             1    200   \n",
       "4          87       sandwitch              3.0             5    300   \n",
       "\n",
       "   net_revenue_per_product  \n",
       "0                  50000.0  \n",
       "1                  40000.0  \n",
       "2                  20000.0  \n",
       "3                    100.0  \n",
       "4                    600.0  "
      ]
     },
     "execution_count": 105,
     "metadata": {},
     "output_type": "execute_result"
    }
   ],
   "source": [
    "# Creating a copy of store_df\n",
    "\n",
    "store_df_disc=store_df.copy()\n",
    "\n",
    "store_df_disc"
   ]
  },
  {
   "cell_type": "code",
   "execution_count": 106,
   "id": "5bee48b6-560d-443f-9e50-0837e5d22c26",
   "metadata": {
    "tags": []
   },
   "outputs": [
    {
     "data": {
      "text/html": [
       "<div>\n",
       "<style scoped>\n",
       "    .dataframe tbody tr th:only-of-type {\n",
       "        vertical-align: middle;\n",
       "    }\n",
       "\n",
       "    .dataframe tbody tr th {\n",
       "        vertical-align: top;\n",
       "    }\n",
       "\n",
       "    .dataframe thead th {\n",
       "        text-align: right;\n",
       "    }\n",
       "</style>\n",
       "<table border=\"1\" class=\"dataframe\">\n",
       "  <thead>\n",
       "    <tr style=\"text-align: right;\">\n",
       "      <th></th>\n",
       "      <th>product_id</th>\n",
       "      <th>name</th>\n",
       "      <th>wholesale_price</th>\n",
       "      <th>retail_price</th>\n",
       "      <th>sales</th>\n",
       "      <th>net_revenue_per_product</th>\n",
       "    </tr>\n",
       "  </thead>\n",
       "  <tbody>\n",
       "    <tr>\n",
       "      <th>0</th>\n",
       "      <td>23</td>\n",
       "      <td>computer</td>\n",
       "      <td>350.00</td>\n",
       "      <td>1000</td>\n",
       "      <td>100</td>\n",
       "      <td>50000.0</td>\n",
       "    </tr>\n",
       "    <tr>\n",
       "      <th>1</th>\n",
       "      <td>96</td>\n",
       "      <td>Python Workout</td>\n",
       "      <td>24.50</td>\n",
       "      <td>75</td>\n",
       "      <td>1000</td>\n",
       "      <td>40000.0</td>\n",
       "    </tr>\n",
       "    <tr>\n",
       "      <th>2</th>\n",
       "      <td>97</td>\n",
       "      <td>Pandas Workout</td>\n",
       "      <td>24.50</td>\n",
       "      <td>75</td>\n",
       "      <td>500</td>\n",
       "      <td>20000.0</td>\n",
       "    </tr>\n",
       "    <tr>\n",
       "      <th>3</th>\n",
       "      <td>15</td>\n",
       "      <td>banana</td>\n",
       "      <td>0.35</td>\n",
       "      <td>1</td>\n",
       "      <td>200</td>\n",
       "      <td>100.0</td>\n",
       "    </tr>\n",
       "    <tr>\n",
       "      <th>4</th>\n",
       "      <td>87</td>\n",
       "      <td>sandwitch</td>\n",
       "      <td>2.10</td>\n",
       "      <td>5</td>\n",
       "      <td>300</td>\n",
       "      <td>600.0</td>\n",
       "    </tr>\n",
       "  </tbody>\n",
       "</table>\n",
       "</div>"
      ],
      "text/plain": [
       "   product_id            name  wholesale_price  retail_price  sales  \\\n",
       "0          23        computer           350.00          1000    100   \n",
       "1          96  Python Workout            24.50            75   1000   \n",
       "2          97  Pandas Workout            24.50            75    500   \n",
       "3          15          banana             0.35             1    200   \n",
       "4          87       sandwitch             2.10             5    300   \n",
       "\n",
       "   net_revenue_per_product  \n",
       "0                  50000.0  \n",
       "1                  40000.0  \n",
       "2                  20000.0  \n",
       "3                    100.0  \n",
       "4                    600.0  "
      ]
     },
     "execution_count": 106,
     "metadata": {},
     "output_type": "execute_result"
    }
   ],
   "source": [
    "#Applying 30% discount to wholesale price\n",
    "\n",
    "store_df_disc['wholesale_price']=store_df_disc['wholesale_price']*0.70\n",
    "\n",
    "store_df_disc"
   ]
  },
  {
   "cell_type": "code",
   "execution_count": 107,
   "id": "2815d52d-d660-426e-9c9f-0d50a5fa6256",
   "metadata": {
    "tags": []
   },
   "outputs": [
    {
     "data": {
      "text/html": [
       "<div>\n",
       "<style scoped>\n",
       "    .dataframe tbody tr th:only-of-type {\n",
       "        vertical-align: middle;\n",
       "    }\n",
       "\n",
       "    .dataframe tbody tr th {\n",
       "        vertical-align: top;\n",
       "    }\n",
       "\n",
       "    .dataframe thead th {\n",
       "        text-align: right;\n",
       "    }\n",
       "</style>\n",
       "<table border=\"1\" class=\"dataframe\">\n",
       "  <thead>\n",
       "    <tr style=\"text-align: right;\">\n",
       "      <th></th>\n",
       "      <th>product_id</th>\n",
       "      <th>name</th>\n",
       "      <th>wholesale_price</th>\n",
       "      <th>retail_price</th>\n",
       "      <th>sales</th>\n",
       "      <th>net_revenue_per_product</th>\n",
       "    </tr>\n",
       "  </thead>\n",
       "  <tbody>\n",
       "    <tr>\n",
       "      <th>0</th>\n",
       "      <td>23</td>\n",
       "      <td>computer</td>\n",
       "      <td>350.00</td>\n",
       "      <td>1000</td>\n",
       "      <td>100</td>\n",
       "      <td>65000.0</td>\n",
       "    </tr>\n",
       "    <tr>\n",
       "      <th>1</th>\n",
       "      <td>96</td>\n",
       "      <td>Python Workout</td>\n",
       "      <td>24.50</td>\n",
       "      <td>75</td>\n",
       "      <td>1000</td>\n",
       "      <td>50500.0</td>\n",
       "    </tr>\n",
       "    <tr>\n",
       "      <th>2</th>\n",
       "      <td>97</td>\n",
       "      <td>Pandas Workout</td>\n",
       "      <td>24.50</td>\n",
       "      <td>75</td>\n",
       "      <td>500</td>\n",
       "      <td>25250.0</td>\n",
       "    </tr>\n",
       "    <tr>\n",
       "      <th>3</th>\n",
       "      <td>15</td>\n",
       "      <td>banana</td>\n",
       "      <td>0.35</td>\n",
       "      <td>1</td>\n",
       "      <td>200</td>\n",
       "      <td>130.0</td>\n",
       "    </tr>\n",
       "    <tr>\n",
       "      <th>4</th>\n",
       "      <td>87</td>\n",
       "      <td>sandwitch</td>\n",
       "      <td>2.10</td>\n",
       "      <td>5</td>\n",
       "      <td>300</td>\n",
       "      <td>870.0</td>\n",
       "    </tr>\n",
       "  </tbody>\n",
       "</table>\n",
       "</div>"
      ],
      "text/plain": [
       "   product_id            name  wholesale_price  retail_price  sales  \\\n",
       "0          23        computer           350.00          1000    100   \n",
       "1          96  Python Workout            24.50            75   1000   \n",
       "2          97  Pandas Workout            24.50            75    500   \n",
       "3          15          banana             0.35             1    200   \n",
       "4          87       sandwitch             2.10             5    300   \n",
       "\n",
       "   net_revenue_per_product  \n",
       "0                  65000.0  \n",
       "1                  50500.0  \n",
       "2                  25250.0  \n",
       "3                    130.0  \n",
       "4                    870.0  "
      ]
     },
     "execution_count": 107,
     "metadata": {},
     "output_type": "execute_result"
    }
   ],
   "source": [
    "# Recalculating net revenue after 30% discount of wholesale prices\n",
    "\n",
    "store_df_disc['net_revenue_per_product'] = (store_df_disc['retail_price'] - store_df_disc['wholesale_price'])*store_df_disc['sales']\n",
    "\n",
    "store_df_disc"
   ]
  },
  {
   "cell_type": "code",
   "execution_count": 108,
   "id": "25467158-718a-4eda-9fec-150e7ad829b0",
   "metadata": {
    "tags": []
   },
   "outputs": [
    {
     "data": {
      "text/plain": [
       "141750.0"
      ]
     },
     "execution_count": 108,
     "metadata": {},
     "output_type": "execute_result"
    }
   ],
   "source": [
    "# using the sum method to calculate the total net revenue\n",
    "\n",
    "New_Total_net_revenue = store_df_disc['net_revenue_per_product'].sum()\n",
    "New_Total_net_revenue"
   ]
  },
  {
   "cell_type": "markdown",
   "id": "74e3f0c8-8809-476e-bbfa-a0f6ec57ea92",
   "metadata": {},
   "source": [
    "     - The new net revenue is $141,750.00 after 30% discount of wholesale prices"
   ]
  },
  {
   "cell_type": "markdown",
   "id": "468cc848-17fa-4dae-87f8-5b1fc62a14fc",
   "metadata": {},
   "source": [
    "## Calculating Net Revenue after applying sales tax"
   ]
  },
  {
   "cell_type": "code",
   "execution_count": 115,
   "id": "4c2727eb-11b5-42f2-b2b1-9d686aa74b48",
   "metadata": {
    "tags": []
   },
   "outputs": [
    {
     "data": {
      "text/html": [
       "<div>\n",
       "<style scoped>\n",
       "    .dataframe tbody tr th:only-of-type {\n",
       "        vertical-align: middle;\n",
       "    }\n",
       "\n",
       "    .dataframe tbody tr th {\n",
       "        vertical-align: top;\n",
       "    }\n",
       "\n",
       "    .dataframe thead th {\n",
       "        text-align: right;\n",
       "    }\n",
       "</style>\n",
       "<table border=\"1\" class=\"dataframe\">\n",
       "  <thead>\n",
       "    <tr style=\"text-align: right;\">\n",
       "      <th></th>\n",
       "      <th>product_id</th>\n",
       "      <th>name</th>\n",
       "      <th>wholesale_price</th>\n",
       "      <th>retail_price</th>\n",
       "      <th>sales</th>\n",
       "      <th>net_revenue_per_product</th>\n",
       "    </tr>\n",
       "  </thead>\n",
       "  <tbody>\n",
       "    <tr>\n",
       "      <th>0</th>\n",
       "      <td>23</td>\n",
       "      <td>computer</td>\n",
       "      <td>500.0</td>\n",
       "      <td>1000</td>\n",
       "      <td>100</td>\n",
       "      <td>50000.0</td>\n",
       "    </tr>\n",
       "    <tr>\n",
       "      <th>1</th>\n",
       "      <td>96</td>\n",
       "      <td>Python Workout</td>\n",
       "      <td>35.0</td>\n",
       "      <td>75</td>\n",
       "      <td>1000</td>\n",
       "      <td>40000.0</td>\n",
       "    </tr>\n",
       "    <tr>\n",
       "      <th>2</th>\n",
       "      <td>97</td>\n",
       "      <td>Pandas Workout</td>\n",
       "      <td>35.0</td>\n",
       "      <td>75</td>\n",
       "      <td>500</td>\n",
       "      <td>20000.0</td>\n",
       "    </tr>\n",
       "    <tr>\n",
       "      <th>3</th>\n",
       "      <td>15</td>\n",
       "      <td>banana</td>\n",
       "      <td>0.5</td>\n",
       "      <td>1</td>\n",
       "      <td>200</td>\n",
       "      <td>100.0</td>\n",
       "    </tr>\n",
       "    <tr>\n",
       "      <th>4</th>\n",
       "      <td>87</td>\n",
       "      <td>sandwitch</td>\n",
       "      <td>3.0</td>\n",
       "      <td>5</td>\n",
       "      <td>300</td>\n",
       "      <td>600.0</td>\n",
       "    </tr>\n",
       "  </tbody>\n",
       "</table>\n",
       "</div>"
      ],
      "text/plain": [
       "   product_id            name  wholesale_price  retail_price  sales  \\\n",
       "0          23        computer            500.0          1000    100   \n",
       "1          96  Python Workout             35.0            75   1000   \n",
       "2          97  Pandas Workout             35.0            75    500   \n",
       "3          15          banana              0.5             1    200   \n",
       "4          87       sandwitch              3.0             5    300   \n",
       "\n",
       "   net_revenue_per_product  \n",
       "0                  50000.0  \n",
       "1                  40000.0  \n",
       "2                  20000.0  \n",
       "3                    100.0  \n",
       "4                    600.0  "
      ]
     },
     "execution_count": 115,
     "metadata": {},
     "output_type": "execute_result"
    }
   ],
   "source": [
    "#Creating a copy of df \n",
    "\n",
    "store_df_tax=store_df.copy()\n",
    "store_df_tax"
   ]
  },
  {
   "cell_type": "markdown",
   "id": "635aa043-2005-4038-8f8e-e4afc7e00ebc",
   "metadata": {},
   "source": [
    "### Calculating net revenue for tax rate of 15 percent\n"
   ]
  },
  {
   "cell_type": "code",
   "execution_count": 117,
   "id": "985d040d-0538-4c0e-8049-62a668d5a11f",
   "metadata": {
    "tags": []
   },
   "outputs": [
    {
     "data": {
      "text/html": [
       "<div>\n",
       "<style scoped>\n",
       "    .dataframe tbody tr th:only-of-type {\n",
       "        vertical-align: middle;\n",
       "    }\n",
       "\n",
       "    .dataframe tbody tr th {\n",
       "        vertical-align: top;\n",
       "    }\n",
       "\n",
       "    .dataframe thead th {\n",
       "        text-align: right;\n",
       "    }\n",
       "</style>\n",
       "<table border=\"1\" class=\"dataframe\">\n",
       "  <thead>\n",
       "    <tr style=\"text-align: right;\">\n",
       "      <th></th>\n",
       "      <th>product_id</th>\n",
       "      <th>name</th>\n",
       "      <th>wholesale_price</th>\n",
       "      <th>retail_price</th>\n",
       "      <th>sales</th>\n",
       "      <th>net_revenue_per_product</th>\n",
       "      <th>income_tax_15</th>\n",
       "    </tr>\n",
       "  </thead>\n",
       "  <tbody>\n",
       "    <tr>\n",
       "      <th>0</th>\n",
       "      <td>23</td>\n",
       "      <td>computer</td>\n",
       "      <td>500.0</td>\n",
       "      <td>1000</td>\n",
       "      <td>100</td>\n",
       "      <td>50000.0</td>\n",
       "      <td>42500.0</td>\n",
       "    </tr>\n",
       "    <tr>\n",
       "      <th>1</th>\n",
       "      <td>96</td>\n",
       "      <td>Python Workout</td>\n",
       "      <td>35.0</td>\n",
       "      <td>75</td>\n",
       "      <td>1000</td>\n",
       "      <td>40000.0</td>\n",
       "      <td>34000.0</td>\n",
       "    </tr>\n",
       "    <tr>\n",
       "      <th>2</th>\n",
       "      <td>97</td>\n",
       "      <td>Pandas Workout</td>\n",
       "      <td>35.0</td>\n",
       "      <td>75</td>\n",
       "      <td>500</td>\n",
       "      <td>20000.0</td>\n",
       "      <td>17000.0</td>\n",
       "    </tr>\n",
       "    <tr>\n",
       "      <th>3</th>\n",
       "      <td>15</td>\n",
       "      <td>banana</td>\n",
       "      <td>0.5</td>\n",
       "      <td>1</td>\n",
       "      <td>200</td>\n",
       "      <td>100.0</td>\n",
       "      <td>85.0</td>\n",
       "    </tr>\n",
       "    <tr>\n",
       "      <th>4</th>\n",
       "      <td>87</td>\n",
       "      <td>sandwitch</td>\n",
       "      <td>3.0</td>\n",
       "      <td>5</td>\n",
       "      <td>300</td>\n",
       "      <td>600.0</td>\n",
       "      <td>510.0</td>\n",
       "    </tr>\n",
       "  </tbody>\n",
       "</table>\n",
       "</div>"
      ],
      "text/plain": [
       "   product_id            name  wholesale_price  retail_price  sales  \\\n",
       "0          23        computer            500.0          1000    100   \n",
       "1          96  Python Workout             35.0            75   1000   \n",
       "2          97  Pandas Workout             35.0            75    500   \n",
       "3          15          banana              0.5             1    200   \n",
       "4          87       sandwitch              3.0             5    300   \n",
       "\n",
       "   net_revenue_per_product  income_tax_15  \n",
       "0                  50000.0        42500.0  \n",
       "1                  40000.0        34000.0  \n",
       "2                  20000.0        17000.0  \n",
       "3                    100.0           85.0  \n",
       "4                    600.0          510.0  "
      ]
     },
     "execution_count": 117,
     "metadata": {},
     "output_type": "execute_result"
    }
   ],
   "source": [
    "# adding income column after 15% tax\n",
    "\n",
    "store_df_tax['income_tax_15']=store_df_tax['net_revenue_per_product']-store_df_tax['net_revenue_per_product']*0.15\n",
    "\n",
    "store_df_tax"
   ]
  },
  {
   "cell_type": "code",
   "execution_count": 119,
   "id": "bca332ef-fe51-44d3-99f5-ce1230710219",
   "metadata": {
    "tags": []
   },
   "outputs": [
    {
     "data": {
      "text/plain": [
       "94095.0"
      ]
     },
     "execution_count": 119,
     "metadata": {},
     "output_type": "execute_result"
    }
   ],
   "source": [
    "# Calculating tota net revenue after 15% tax\n",
    "\n",
    "store_df_tax['income_tax_15'].sum()"
   ]
  },
  {
   "cell_type": "markdown",
   "id": "d8190f1e-b71e-439d-a365-02c1d8f5827f",
   "metadata": {},
   "source": [
    "    - $94,095.0 is the net revenue after 15% tax"
   ]
  },
  {
   "cell_type": "markdown",
   "id": "042c9bd1-bbbf-433b-a80a-b059eb6afd44",
   "metadata": {},
   "source": [
    "### Calculating net revenue for tax rate of 20 percent\n"
   ]
  },
  {
   "cell_type": "code",
   "execution_count": 120,
   "id": "1fbe09bf-d232-4bb6-8509-80fb810d3676",
   "metadata": {
    "tags": []
   },
   "outputs": [
    {
     "data": {
      "text/html": [
       "<div>\n",
       "<style scoped>\n",
       "    .dataframe tbody tr th:only-of-type {\n",
       "        vertical-align: middle;\n",
       "    }\n",
       "\n",
       "    .dataframe tbody tr th {\n",
       "        vertical-align: top;\n",
       "    }\n",
       "\n",
       "    .dataframe thead th {\n",
       "        text-align: right;\n",
       "    }\n",
       "</style>\n",
       "<table border=\"1\" class=\"dataframe\">\n",
       "  <thead>\n",
       "    <tr style=\"text-align: right;\">\n",
       "      <th></th>\n",
       "      <th>product_id</th>\n",
       "      <th>name</th>\n",
       "      <th>wholesale_price</th>\n",
       "      <th>retail_price</th>\n",
       "      <th>sales</th>\n",
       "      <th>net_revenue_per_product</th>\n",
       "      <th>income_tax_15</th>\n",
       "      <th>income_tax_20</th>\n",
       "    </tr>\n",
       "  </thead>\n",
       "  <tbody>\n",
       "    <tr>\n",
       "      <th>0</th>\n",
       "      <td>23</td>\n",
       "      <td>computer</td>\n",
       "      <td>500.0</td>\n",
       "      <td>1000</td>\n",
       "      <td>100</td>\n",
       "      <td>50000.0</td>\n",
       "      <td>42500.0</td>\n",
       "      <td>40000.0</td>\n",
       "    </tr>\n",
       "    <tr>\n",
       "      <th>1</th>\n",
       "      <td>96</td>\n",
       "      <td>Python Workout</td>\n",
       "      <td>35.0</td>\n",
       "      <td>75</td>\n",
       "      <td>1000</td>\n",
       "      <td>40000.0</td>\n",
       "      <td>34000.0</td>\n",
       "      <td>32000.0</td>\n",
       "    </tr>\n",
       "    <tr>\n",
       "      <th>2</th>\n",
       "      <td>97</td>\n",
       "      <td>Pandas Workout</td>\n",
       "      <td>35.0</td>\n",
       "      <td>75</td>\n",
       "      <td>500</td>\n",
       "      <td>20000.0</td>\n",
       "      <td>17000.0</td>\n",
       "      <td>16000.0</td>\n",
       "    </tr>\n",
       "    <tr>\n",
       "      <th>3</th>\n",
       "      <td>15</td>\n",
       "      <td>banana</td>\n",
       "      <td>0.5</td>\n",
       "      <td>1</td>\n",
       "      <td>200</td>\n",
       "      <td>100.0</td>\n",
       "      <td>85.0</td>\n",
       "      <td>80.0</td>\n",
       "    </tr>\n",
       "    <tr>\n",
       "      <th>4</th>\n",
       "      <td>87</td>\n",
       "      <td>sandwitch</td>\n",
       "      <td>3.0</td>\n",
       "      <td>5</td>\n",
       "      <td>300</td>\n",
       "      <td>600.0</td>\n",
       "      <td>510.0</td>\n",
       "      <td>480.0</td>\n",
       "    </tr>\n",
       "  </tbody>\n",
       "</table>\n",
       "</div>"
      ],
      "text/plain": [
       "   product_id            name  wholesale_price  retail_price  sales  \\\n",
       "0          23        computer            500.0          1000    100   \n",
       "1          96  Python Workout             35.0            75   1000   \n",
       "2          97  Pandas Workout             35.0            75    500   \n",
       "3          15          banana              0.5             1    200   \n",
       "4          87       sandwitch              3.0             5    300   \n",
       "\n",
       "   net_revenue_per_product  income_tax_15  income_tax_20  \n",
       "0                  50000.0        42500.0        40000.0  \n",
       "1                  40000.0        34000.0        32000.0  \n",
       "2                  20000.0        17000.0        16000.0  \n",
       "3                    100.0           85.0           80.0  \n",
       "4                    600.0          510.0          480.0  "
      ]
     },
     "execution_count": 120,
     "metadata": {},
     "output_type": "execute_result"
    }
   ],
   "source": [
    "# adding income column after 20% tax\n",
    "\n",
    "store_df_tax['income_tax_20']=store_df_tax['net_revenue_per_product']-store_df_tax['net_revenue_per_product']*0.20\n",
    "\n",
    "store_df_tax"
   ]
  },
  {
   "cell_type": "code",
   "execution_count": 121,
   "id": "790fcf83-7d53-4a92-a276-ca1ccc49bb77",
   "metadata": {
    "tags": []
   },
   "outputs": [
    {
     "data": {
      "text/plain": [
       "88560.0"
      ]
     },
     "execution_count": 121,
     "metadata": {},
     "output_type": "execute_result"
    }
   ],
   "source": [
    "# Calculating tota net revenue after 20% tax\n",
    "\n",
    "store_df_tax['income_tax_20'].sum()"
   ]
  },
  {
   "cell_type": "markdown",
   "id": "5b01e06c-f9e0-451c-8b13-7759010a5c3c",
   "metadata": {},
   "source": [
    "     - $88,560.0 is the net revenue after 20% tax"
   ]
  },
  {
   "cell_type": "markdown",
   "id": "94a96198-004c-433d-8754-f2b66008b3c5",
   "metadata": {},
   "source": [
    "### Calculating net revenue for tax rate of 25 percent\n"
   ]
  },
  {
   "cell_type": "code",
   "execution_count": 122,
   "id": "88e5066d-bbba-4a88-9523-77abc947bace",
   "metadata": {
    "tags": []
   },
   "outputs": [
    {
     "data": {
      "text/html": [
       "<div>\n",
       "<style scoped>\n",
       "    .dataframe tbody tr th:only-of-type {\n",
       "        vertical-align: middle;\n",
       "    }\n",
       "\n",
       "    .dataframe tbody tr th {\n",
       "        vertical-align: top;\n",
       "    }\n",
       "\n",
       "    .dataframe thead th {\n",
       "        text-align: right;\n",
       "    }\n",
       "</style>\n",
       "<table border=\"1\" class=\"dataframe\">\n",
       "  <thead>\n",
       "    <tr style=\"text-align: right;\">\n",
       "      <th></th>\n",
       "      <th>product_id</th>\n",
       "      <th>name</th>\n",
       "      <th>wholesale_price</th>\n",
       "      <th>retail_price</th>\n",
       "      <th>sales</th>\n",
       "      <th>net_revenue_per_product</th>\n",
       "      <th>income_tax_15</th>\n",
       "      <th>income_tax_20</th>\n",
       "      <th>income_tax_25</th>\n",
       "    </tr>\n",
       "  </thead>\n",
       "  <tbody>\n",
       "    <tr>\n",
       "      <th>0</th>\n",
       "      <td>23</td>\n",
       "      <td>computer</td>\n",
       "      <td>500.0</td>\n",
       "      <td>1000</td>\n",
       "      <td>100</td>\n",
       "      <td>50000.0</td>\n",
       "      <td>42500.0</td>\n",
       "      <td>40000.0</td>\n",
       "      <td>37500.0</td>\n",
       "    </tr>\n",
       "    <tr>\n",
       "      <th>1</th>\n",
       "      <td>96</td>\n",
       "      <td>Python Workout</td>\n",
       "      <td>35.0</td>\n",
       "      <td>75</td>\n",
       "      <td>1000</td>\n",
       "      <td>40000.0</td>\n",
       "      <td>34000.0</td>\n",
       "      <td>32000.0</td>\n",
       "      <td>30000.0</td>\n",
       "    </tr>\n",
       "    <tr>\n",
       "      <th>2</th>\n",
       "      <td>97</td>\n",
       "      <td>Pandas Workout</td>\n",
       "      <td>35.0</td>\n",
       "      <td>75</td>\n",
       "      <td>500</td>\n",
       "      <td>20000.0</td>\n",
       "      <td>17000.0</td>\n",
       "      <td>16000.0</td>\n",
       "      <td>15000.0</td>\n",
       "    </tr>\n",
       "    <tr>\n",
       "      <th>3</th>\n",
       "      <td>15</td>\n",
       "      <td>banana</td>\n",
       "      <td>0.5</td>\n",
       "      <td>1</td>\n",
       "      <td>200</td>\n",
       "      <td>100.0</td>\n",
       "      <td>85.0</td>\n",
       "      <td>80.0</td>\n",
       "      <td>75.0</td>\n",
       "    </tr>\n",
       "    <tr>\n",
       "      <th>4</th>\n",
       "      <td>87</td>\n",
       "      <td>sandwitch</td>\n",
       "      <td>3.0</td>\n",
       "      <td>5</td>\n",
       "      <td>300</td>\n",
       "      <td>600.0</td>\n",
       "      <td>510.0</td>\n",
       "      <td>480.0</td>\n",
       "      <td>450.0</td>\n",
       "    </tr>\n",
       "  </tbody>\n",
       "</table>\n",
       "</div>"
      ],
      "text/plain": [
       "   product_id            name  wholesale_price  retail_price  sales  \\\n",
       "0          23        computer            500.0          1000    100   \n",
       "1          96  Python Workout             35.0            75   1000   \n",
       "2          97  Pandas Workout             35.0            75    500   \n",
       "3          15          banana              0.5             1    200   \n",
       "4          87       sandwitch              3.0             5    300   \n",
       "\n",
       "   net_revenue_per_product  income_tax_15  income_tax_20  income_tax_25  \n",
       "0                  50000.0        42500.0        40000.0        37500.0  \n",
       "1                  40000.0        34000.0        32000.0        30000.0  \n",
       "2                  20000.0        17000.0        16000.0        15000.0  \n",
       "3                    100.0           85.0           80.0           75.0  \n",
       "4                    600.0          510.0          480.0          450.0  "
      ]
     },
     "execution_count": 122,
     "metadata": {},
     "output_type": "execute_result"
    }
   ],
   "source": [
    "# adding income column after 25% tax\n",
    "\n",
    "store_df_tax['income_tax_25']=store_df_tax['net_revenue_per_product']-store_df_tax['net_revenue_per_product']*0.25\n",
    "\n",
    "store_df_tax"
   ]
  },
  {
   "cell_type": "code",
   "execution_count": 123,
   "id": "8b712fe5-3958-439c-abaf-e6ca1e110053",
   "metadata": {
    "tags": []
   },
   "outputs": [
    {
     "data": {
      "text/plain": [
       "83025.0"
      ]
     },
     "execution_count": 123,
     "metadata": {},
     "output_type": "execute_result"
    }
   ],
   "source": [
    "# Calculating tota net revenue after 25% tax\n",
    "\n",
    "store_df_tax['income_tax_25'].sum()"
   ]
  },
  {
   "cell_type": "markdown",
   "id": "f67c28f5-d70c-4542-a17a-fb6468bf15ce",
   "metadata": {},
   "source": [
    "    - $83,025.0 is the net revenue after 25% tax"
   ]
  },
  {
   "cell_type": "code",
   "execution_count": null,
   "id": "fa8d4648-ad82-4f21-a749-fd132d2b9efb",
   "metadata": {},
   "outputs": [],
   "source": []
  }
 ],
 "metadata": {
  "kernelspec": {
   "display_name": "Python 3 (ipykernel)",
   "language": "python",
   "name": "python3"
  },
  "language_info": {
   "codemirror_mode": {
    "name": "ipython",
    "version": 3
   },
   "file_extension": ".py",
   "mimetype": "text/x-python",
   "name": "python",
   "nbconvert_exporter": "python",
   "pygments_lexer": "ipython3",
   "version": "3.11.5"
  },
  "widgets": {
   "application/vnd.jupyter.widget-state+json": {
    "state": {},
    "version_major": 2,
    "version_minor": 0
   }
  }
 },
 "nbformat": 4,
 "nbformat_minor": 5
}
